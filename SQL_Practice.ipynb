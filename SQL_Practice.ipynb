{
 "cells": [
  {
   "cell_type": "markdown",
   "id": "622f3cde",
   "metadata": {},
   "source": [
    "**Question 1**\n",
    "\n",
    "In the cell below, use the csv package and open the csv file. Use a for loop and the `readlines()` method to read each line of the file and print it out. Make sure you're using the correct file."
   ]
  },
  {
   "cell_type": "code",
   "execution_count": null,
   "id": "08b6a2bf",
   "metadata": {},
   "outputs": [],
   "source": [
    "import csv\n",
    "## PLACE YOUR CODE HERE"
   ]
  },
  {
   "cell_type": "code",
   "execution_count": null,
   "id": "6d49814e",
   "metadata": {},
   "outputs": [],
   "source": [
    "import mysql.connector\n",
    "from mysql.connector import Error\n",
    "\n",
    "## ALSO BE SURE TO ADD YOUR DB USERNAME AND PASSWORD HERE\n",
    "\n",
    "PASSWORD=\"your_password\""
   ]
  },
  {
   "cell_type": "markdown",
   "id": "206b5fab",
   "metadata": {},
   "source": [
    "**Question 2**\n",
    "\n",
    "In the cell below, using mysql.connector, create a function which can be used to connect to your vm, print out the databases you have access to.  \n",
    " \n",
    " >REMEMBER: Handle your errors! If something goes wrong, we don't want production code crashing."
   ]
  },
  {
   "cell_type": "code",
   "execution_count": null,
   "id": "07c81f7f",
   "metadata": {},
   "outputs": [],
   "source": [
    "try:\n",
    "    connection = mysql.connector.connect(\n",
    "        host=\"localhost\",\n",
    "        user=\"student\",\n",
    "        password=PASSWORD\n",
    "    )\n",
    "\n",
    "    # Add code here to print your databases\n",
    "\n",
    "except Error as e:\n",
    "    print(\"Error while connecting to MySQL\", e)\n",
    "finally:\n",
    "    if connection.is_connected():\n",
    "        cursor.close() # This is a hint! Since cursor isn't defined you'll obviously need one somewhere\n",
    "        connection.close()"
   ]
  },
  {
   "cell_type": "markdown",
   "id": "b9c0a51c",
   "metadata": {},
   "source": [
    "**Question 3**\n",
    "\n",
    "Now that we have a database, lets go ahead and create a table for storing the `all_alpha_25.csv` data into the database."
   ]
  },
  {
   "cell_type": "code",
   "execution_count": null,
   "id": "7e9d0e35",
   "metadata": {},
   "outputs": [],
   "source": [
    "def create_table(db_name, table_name):\n",
    "    try:\n",
    "        connection = mysql.connector.connect(\n",
    "            host='localhost',\n",
    "            user='student',\n",
    "            password=PASSWORD,\n",
    "            database=db_name\n",
    "        )\n",
    "        \n",
    "        if connection.is_connected():\n",
    "            cursor = connection.cursor()\n",
    "            \n",
    "            create_table_query = f\"\"\"PLACE YOUR QUERY HERE\"\"\"\n",
    "            \n",
    "            cursor.execute(create_table_query)\n",
    "            connection.commit()\n",
    "            print(\"Table 'car_emissions' created successfully.\")\n",
    "    \n",
    "    except Error as e:\n",
    "        print(f\"Error while connecting to MySQL: {e}\")\n",
    "    \n",
    "    finally:\n",
    "        if connection.is_connected():\n",
    "            cursor.close()\n",
    "            connection.close()\n",
    "\n",
    "create_table(\"student\", \"table1\")"
   ]
  },
  {
   "cell_type": "markdown",
   "id": "82b54ac4",
   "metadata": {},
   "source": [
    "**Question 4**\n",
    "\n",
    "Now that the table exists, create a function to take your opened csv file, and insert the values into your newly created table. Remember to clean your data!"
   ]
  },
  {
   "cell_type": "code",
   "execution_count": null,
   "id": "47d11d63",
   "metadata": {},
   "outputs": [],
   "source": [
    "def insert_data(db_name, table_name, csv_file_path):\n",
    "    try:\n",
    "        connection = mysql.connector.connect(\n",
    "            host='localhost',\n",
    "            user='student',\n",
    "            password=PASSWORD,\n",
    "            database=db_name\n",
    "        )\n",
    "        \n",
    "        if connection.is_connected():\n",
    "            cursor = connection.cursor()\n",
    "            \n",
    "            insert_query = f\"\"\"PLACE YOUR QUERY HERE\"\"\"\n",
    "            \n",
    "            with open(csv_file_path, mode='r') as csv_file:\n",
    "                csv_reader = csv.reader(csv_file)\n",
    "                next(csv_reader)\n",
    "                \n",
    "                for row in csv_reader:\n",
    "                    cursor.execute(insert_query, tuple(row))\n",
    "            \n",
    "            connection.commit()\n",
    "            print(\"Data inserted successfully.\")\n",
    "    \n",
    "    except Error as e:\n",
    "        print(f\"Error while connecting to MySQL: {e}\")\n",
    "    \n",
    "    finally:\n",
    "        if connection.is_connected():\n",
    "            cursor.close()\n",
    "            connection.close()\n",
    "\n",
    "insert_data(\"student\", \"table1\", \"all_alpha_25.csv\")"
   ]
  },
  {
   "cell_type": "markdown",
   "id": "3d1efa41",
   "metadata": {},
   "source": [
    "**Question 5**\n",
    "\n",
    "Fortunately, a DBMS can abstract a lot of those details away for us. It's important to remember that everything in a database is a `set` meaning that there is no inherent order in how it is stored. If we simply `SELECT` from our database we have to assume that the values are returned in a random order. However, we can use `ORDER BY` statement to specify the order we want. In the following cell, retrieve all the values in your database first by the `Model` attribute, then the `City MPG`, `Hwy MPG`, and `Cmb MPG` attributes. Print the result to the console."
   ]
  },
  {
   "cell_type": "code",
   "execution_count": null,
   "id": "801fc94d",
   "metadata": {},
   "outputs": [],
   "source": [
    "def fetch_sorted_data(db_name, table_name):\n",
    "    try:\n",
    "        connection = mysql.connector.connect(\n",
    "            host='localhost',\n",
    "            user='student',\n",
    "            password=PASSWORD,\n",
    "            database=db_name\n",
    "        )\n",
    "        \n",
    "        if connection.is_connected():\n",
    "            cursor = connection.cursor()\n",
    "            \n",
    "            query = f\"\"\"PLACE YOUR QUERY HERE\"\"\"\n",
    "            \n",
    "            cursor.execute(query)\n",
    "            results = cursor.fetchall()\n",
    "            \n",
    "            for row in results:\n",
    "                print(row)\n",
    "    \n",
    "    except Error as e:\n",
    "        print(f\"Error while connecting to MySQL: {e}\")\n",
    "    \n",
    "    finally:\n",
    "        if connection.is_connected():\n",
    "            cursor.close()\n",
    "            connection.close()\n",
    "\n",
    "fetch_sorted_data(\"student\", \"table1\")"
   ]
  },
  {
   "cell_type": "code",
   "execution_count": null,
   "id": "18222e5d-53d4-4389-ac33-d4b0e57c4460",
   "metadata": {},
   "outputs": [],
   "source": []
  }
 ],
 "metadata": {
  "kernelspec": {
   "display_name": "Python 3 (ipykernel)",
   "language": "python",
   "name": "python3"
  },
  "language_info": {
   "codemirror_mode": {
    "name": "ipython",
    "version": 3
   },
   "file_extension": ".py",
   "mimetype": "text/x-python",
   "name": "python",
   "nbconvert_exporter": "python",
   "pygments_lexer": "ipython3",
   "version": "3.12.3"
  }
 },
 "nbformat": 4,
 "nbformat_minor": 5
}
